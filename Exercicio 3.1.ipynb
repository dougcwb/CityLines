{
 "cells": [
  {
   "cell_type": "markdown",
   "metadata": {},
   "source": [
    "## IMPORTAÇÃO DE BIBLIOTECAS"
   ]
  },
  {
   "cell_type": "code",
   "execution_count": 1,
   "metadata": {
    "collapsed": true
   },
   "outputs": [],
   "source": [
    "from pyspark import SparkContext\n",
    "sc = SparkContext.getOrCreate()"
   ]
  },
  {
   "cell_type": "code",
   "execution_count": 2,
   "metadata": {
    "collapsed": true
   },
   "outputs": [],
   "source": [
    "from pyspark.sql import SQLContext\n",
    "sqlContext = SQLContext.getOrCreate(sc)"
   ]
  },
  {
   "cell_type": "code",
   "execution_count": 3,
   "metadata": {
    "collapsed": true
   },
   "outputs": [],
   "source": [
    "from pyspark.sql import HiveContext\n",
    "hc = HiveContext.getOrCreate(sc)\n",
    "from pyspark.sql.types import *"
   ]
  },
  {
   "cell_type": "markdown",
   "metadata": {},
   "source": [
    "## IMPORTAÇÃO DE DADOS"
   ]
  },
  {
   "cell_type": "code",
   "execution_count": 4,
   "metadata": {},
   "outputs": [
    {
     "name": "stdout",
     "output_type": "stream",
     "text": [
      "+--------+-------------+-----------+\n",
      "|database|    tableName|isTemporary|\n",
      "+--------+-------------+-----------+\n",
      "| default|       carros|      false|\n",
      "| default|       cities|      false|\n",
      "| default|        lines|      false|\n",
      "| default|       placas|      false|\n",
      "| default|station_lines|      false|\n",
      "| default|     stations|      false|\n",
      "+--------+-------------+-----------+\n",
      "\n"
     ]
    }
   ],
   "source": [
    "# Exibe tabelas, caso exista\n",
    "sqlContext.sql(\"show tables\").show()"
   ]
  },
  {
   "cell_type": "code",
   "execution_count": 5,
   "metadata": {},
   "outputs": [
    {
     "data": {
      "text/plain": [
       "DataFrame[]"
      ]
     },
     "execution_count": 5,
     "metadata": {},
     "output_type": "execute_result"
    }
   ],
   "source": [
    "# Exclui tabela carros, caso exista\n",
    "hc.sql(\"drop table carros\")"
   ]
  },
  {
   "cell_type": "code",
   "execution_count": 6,
   "metadata": {},
   "outputs": [
    {
     "name": "stdout",
     "output_type": "stream",
     "text": [
      "['ZXH5193,9993,Maringá,Mon Jan 03 02:53:39 BRST 2000,110', 'ZXH5193,9992,Maringá,Mon Jan 03 02:53:36 BRST 2000,105', 'ZXH5193,9991,Maringá,Mon Jan 03 02:53:33 BRST 2000,107']\n"
     ]
    }
   ],
   "source": [
    "# Importa os dados e trata os caracteres\n",
    "\n",
    "lines = sc.textFile(\"C:/Dados/E2/registrosPlacas.txt\").map(lambda l: l.replace('\\t',',').replace(' km/h',''))\n",
    "print(lines.top(3))"
   ]
  },
  {
   "cell_type": "code",
   "execution_count": 7,
   "metadata": {},
   "outputs": [
    {
     "name": "stdout",
     "output_type": "stream",
     "text": [
      "[['ZXH5193', '9993', 'Maringá', 'Mon Jan 03 02:53:39 BRST 2000', '110'], ['ZXH5193', '9992', 'Maringá', 'Mon Jan 03 02:53:36 BRST 2000', '105'], ['ZXH5193', '9991', 'Maringá', 'Mon Jan 03 02:53:33 BRST 2000', '107']]\n"
     ]
    }
   ],
   "source": [
    "# Separa os dados em arrays\n",
    "\n",
    "parts = lines.map(lambda l: l.split(','))\n",
    "print(parts.top(3))"
   ]
  },
  {
   "cell_type": "code",
   "execution_count": 8,
   "metadata": {
    "collapsed": true
   },
   "outputs": [],
   "source": [
    "# Transforma RDD em Data Frame com o seguinte cabeçalho\n",
    "\n",
    "df = parts.toDF([\"placa\",\"local\",\"municipio\",\"data\",\"velocidade\"])"
   ]
  },
  {
   "cell_type": "code",
   "execution_count": 9,
   "metadata": {},
   "outputs": [
    {
     "name": "stdout",
     "output_type": "stream",
     "text": [
      "+--------+-------------+-----------+\n",
      "|database|    tableName|isTemporary|\n",
      "+--------+-------------+-----------+\n",
      "| default|       cities|      false|\n",
      "| default|        lines|      false|\n",
      "| default|       placas|      false|\n",
      "| default|station_lines|      false|\n",
      "| default|     stations|      false|\n",
      "+--------+-------------+-----------+\n",
      "\n"
     ]
    }
   ],
   "source": [
    "# Exibe tabelas\n",
    "\n",
    "sqlContext.sql(\"show tables\").show()"
   ]
  },
  {
   "cell_type": "code",
   "execution_count": 10,
   "metadata": {
    "collapsed": true
   },
   "outputs": [],
   "source": [
    "# Exporta o Data Frame para tabela\n",
    "\n",
    "df.write.saveAsTable(\"carros\")"
   ]
  },
  {
   "cell_type": "code",
   "execution_count": 11,
   "metadata": {
    "scrolled": false
   },
   "outputs": [
    {
     "name": "stdout",
     "output_type": "stream",
     "text": [
      "+-------+-----+---------+--------------------+----------+\n",
      "|  placa|local|municipio|                data|velocidade|\n",
      "+-------+-----+---------+--------------------+----------+\n",
      "|BQX7899| 0010| Curitiba|Mon Jan 03 01:34:...|        56|\n",
      "|MJG5107| 9539| Umuarama|Wed Jan 05 08:47:...|        27|\n",
      "|QZQ0584| 9852| Curitiba|Mon Jan 03 08:32:...|        90|\n",
      "|JSQ9319| 6288| Londrina|Wed Jan 05 07:28:...|        39|\n",
      "|WIZ0836| 2592| Londrina|Thu Jan 06 10:49:...|        66|\n",
      "+-------+-----+---------+--------------------+----------+\n",
      "\n"
     ]
    }
   ],
   "source": [
    "# Imprime tabela com os 5 primeiros resultados\n",
    "\n",
    "hc.sql(\"select * from carros limit 5\").show()"
   ]
  },
  {
   "cell_type": "code",
   "execution_count": 12,
   "metadata": {},
   "outputs": [
    {
     "name": "stdout",
     "output_type": "stream",
     "text": [
      "+-------+----+\n",
      "|  placa| cnt|\n",
      "+-------+----+\n",
      "|UFC2015|7000|\n",
      "+-------+----+\n",
      "\n"
     ]
    }
   ],
   "source": [
    "# Imprime placa com mais ocorências\n",
    "\n",
    "hc.sql(\"select placa, count(*) as cnt \\\n",
    "        from carros \\\n",
    "        group by placa \\\n",
    "        order by cnt desc \\\n",
    "        limit 1\").show()"
   ]
  },
  {
   "cell_type": "code",
   "execution_count": 13,
   "metadata": {},
   "outputs": [
    {
     "name": "stdout",
     "output_type": "stream",
     "text": [
      "+-------+---+\n",
      "|  placa|max|\n",
      "+-------+---+\n",
      "|IHD9565| 99|\n",
      "+-------+---+\n",
      "\n"
     ]
    }
   ],
   "source": [
    "# Imprime placa com maior velocidade\n",
    "\n",
    "hc.sql(\"select placa, max(velocidade) as max \\\n",
    "        from carros \\\n",
    "        group by placa \\\n",
    "        order by max desc \\\n",
    "        limit 1\").show()"
   ]
  },
  {
   "cell_type": "code",
   "execution_count": 14,
   "metadata": {},
   "outputs": [
    {
     "name": "stdout",
     "output_type": "stream",
     "text": [
      "+-------+------------------+\n",
      "|  placa|               avg|\n",
      "+-------+------------------+\n",
      "|EZB0648|108.66371428571429|\n",
      "+-------+------------------+\n",
      "\n"
     ]
    }
   ],
   "source": [
    "# Imprime média de velocidade\n",
    "\n",
    "hc.sql(\"select placa, avg(velocidade) as avg \\\n",
    "        from carros \\\n",
    "        group by placa \\\n",
    "        order by avg desc \\\n",
    "        limit 1\").show()"
   ]
  },
  {
   "cell_type": "code",
   "execution_count": null,
   "metadata": {
    "collapsed": true
   },
   "outputs": [],
   "source": []
  }
 ],
 "metadata": {
  "kernelspec": {
   "display_name": "Python 3",
   "language": "python",
   "name": "python3"
  },
  "language_info": {
   "codemirror_mode": {
    "name": "ipython",
    "version": 3
   },
   "file_extension": ".py",
   "mimetype": "text/x-python",
   "name": "python",
   "nbconvert_exporter": "python",
   "pygments_lexer": "ipython3",
   "version": "3.6.1"
  }
 },
 "nbformat": 4,
 "nbformat_minor": 2
}
