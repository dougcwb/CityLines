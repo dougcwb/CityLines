{
 "cells": [
  {
   "cell_type": "markdown",
   "metadata": {},
   "source": [
    "## IMPORT CONTEXT"
   ]
  },
  {
   "cell_type": "code",
   "execution_count": 1,
   "metadata": {
    "collapsed": true
   },
   "outputs": [],
   "source": [
    "from pyspark import SparkContext\n",
    "sc = SparkContext.getOrCreate()"
   ]
  },
  {
   "cell_type": "code",
   "execution_count": 2,
   "metadata": {
    "collapsed": true
   },
   "outputs": [],
   "source": [
    "from pyspark.sql import SQLContext, Row\n",
    "sqlContext = SQLContext.getOrCreate(sc)"
   ]
  },
  {
   "cell_type": "code",
   "execution_count": 3,
   "metadata": {
    "collapsed": true
   },
   "outputs": [],
   "source": [
    "from pyspark.sql.types import *"
   ]
  },
  {
   "cell_type": "code",
   "execution_count": 4,
   "metadata": {
    "collapsed": true
   },
   "outputs": [],
   "source": [
    "from pyspark.sql import HiveContext\n",
    "hc = HiveContext.getOrCreate(sc)"
   ]
  },
  {
   "cell_type": "code",
   "execution_count": 5,
   "metadata": {},
   "outputs": [
    {
     "data": {
      "text/plain": [
       "DataFrame[]"
      ]
     },
     "execution_count": 5,
     "metadata": {},
     "output_type": "execute_result"
    }
   ],
   "source": [
    "# Drop tables if need\n",
    "sqlContext.sql(\"drop table cities\")\n",
    "sqlContext.sql(\"drop table lines\")\n",
    "sqlContext.sql(\"drop table station_lines\")\n",
    "sqlContext.sql(\"drop table stations\")"
   ]
  },
  {
   "cell_type": "code",
   "execution_count": 6,
   "metadata": {},
   "outputs": [
    {
     "name": "stdout",
     "output_type": "stream",
     "text": [
      "+--------+---------+-----------+\n",
      "|database|tableName|isTemporary|\n",
      "+--------+---------+-----------+\n",
      "| default|   carros|      false|\n",
      "| default|   placas|      false|\n",
      "+--------+---------+-----------+\n",
      "\n"
     ]
    }
   ],
   "source": [
    "# Show tables\n",
    "hc.sql(\"show tables\").show()"
   ]
  },
  {
   "cell_type": "markdown",
   "metadata": {},
   "source": [
    "## IMPORT CITIES DATA"
   ]
  },
  {
   "cell_type": "code",
   "execution_count": 7,
   "metadata": {},
   "outputs": [
    {
     "data": {
      "text/plain": [
       "334"
      ]
     },
     "execution_count": 7,
     "metadata": {},
     "output_type": "execute_result"
    }
   ],
   "source": [
    "citiesDF = sqlContext.read.load('C:/Dados/citylines/cities.csv', \n",
    "                                format='com.databricks.spark.csv', \n",
    "                                header='true', \n",
    "                                inferSchema='true')\n",
    "# Count rows\n",
    "citiesDF.count()"
   ]
  },
  {
   "cell_type": "code",
   "execution_count": 8,
   "metadata": {},
   "outputs": [
    {
     "name": "stdout",
     "output_type": "stream",
     "text": [
      "root\n",
      " |-- id: integer (nullable = true)\n",
      " |-- name: string (nullable = true)\n",
      " |-- coords: string (nullable = true)\n",
      " |-- start_year: integer (nullable = true)\n",
      " |-- url_name: string (nullable = true)\n",
      " |-- country: string (nullable = true)\n",
      " |-- country_state: string (nullable = true)\n",
      "\n"
     ]
    }
   ],
   "source": [
    "# Print Schema\n",
    "citiesDF.printSchema()"
   ]
  },
  {
   "cell_type": "code",
   "execution_count": 9,
   "metadata": {},
   "outputs": [
    {
     "name": "stdout",
     "output_type": "stream",
     "text": [
      "+---+--------+--------------------+----------+--------+---------+-------------+\n",
      "| id|    name|              coords|start_year|url_name|  country|country_state|\n",
      "+---+--------+--------------------+----------+--------+---------+-------------+\n",
      "|  5|Aberdeen|  POINT(-2.15 57.15)|      2017|aberdeen| Scotland|         null|\n",
      "|  6|Adelaide|POINT(138.6 -34.9...|      2017|adelaide|Australia|         null|\n",
      "|  7| Algiers|POINT(3 36.83333333)|      2017| algiers|  Algeria|         null|\n",
      "+---+--------+--------------------+----------+--------+---------+-------------+\n",
      "only showing top 3 rows\n",
      "\n"
     ]
    }
   ],
   "source": [
    "# Check data\n",
    "citiesDF.show(3)"
   ]
  },
  {
   "cell_type": "code",
   "execution_count": 10,
   "metadata": {
    "collapsed": true
   },
   "outputs": [],
   "source": [
    "# Export DataFrame to a Table\n",
    "citiesDF.write.saveAsTable(\"cities\")"
   ]
  },
  {
   "cell_type": "code",
   "execution_count": 11,
   "metadata": {
    "scrolled": false
   },
   "outputs": [
    {
     "name": "stdout",
     "output_type": "stream",
     "text": [
      "+---+--------+--------------------+----------+--------+---------+-------------+\n",
      "| id|    name|              coords|start_year|url_name|  country|country_state|\n",
      "+---+--------+--------------------+----------+--------+---------+-------------+\n",
      "|  5|Aberdeen|  POINT(-2.15 57.15)|      2017|aberdeen| Scotland|         null|\n",
      "|  6|Adelaide|POINT(138.6 -34.9...|      2017|adelaide|Australia|         null|\n",
      "|  7| Algiers|POINT(3 36.83333333)|      2017| algiers|  Algeria|         null|\n",
      "+---+--------+--------------------+----------+--------+---------+-------------+\n",
      "\n"
     ]
    }
   ],
   "source": [
    "# Print 3 rows from table\n",
    "hc.sql(\"select * from cities limit 3\").show()"
   ]
  },
  {
   "cell_type": "markdown",
   "metadata": {},
   "source": [
    "## IMPORT LINES DATA"
   ]
  },
  {
   "cell_type": "code",
   "execution_count": 12,
   "metadata": {},
   "outputs": [
    {
     "data": {
      "text/plain": [
       "1343"
      ]
     },
     "execution_count": 12,
     "metadata": {},
     "output_type": "execute_result"
    }
   ],
   "source": [
    "linesDF = sqlContext.read.load('C:/Dados/citylines/lines.csv', \n",
    "                                format='com.databricks.spark.csv', \n",
    "                                header='true', \n",
    "                                inferSchema='true')\n",
    "# Count rows\n",
    "linesDF.count()"
   ]
  },
  {
   "cell_type": "code",
   "execution_count": 13,
   "metadata": {},
   "outputs": [
    {
     "name": "stdout",
     "output_type": "stream",
     "text": [
      "root\n",
      " |-- id: integer (nullable = true)\n",
      " |-- city_id: integer (nullable = true)\n",
      " |-- name: string (nullable = true)\n",
      " |-- url_name: string (nullable = true)\n",
      " |-- color: string (nullable = true)\n",
      " |-- system_id: integer (nullable = true)\n",
      " |-- transport_mode_id: integer (nullable = true)\n",
      "\n"
     ]
    }
   ],
   "source": [
    "# Print Schema\n",
    "linesDF.printSchema()"
   ]
  },
  {
   "cell_type": "code",
   "execution_count": 14,
   "metadata": {},
   "outputs": [
    {
     "name": "stdout",
     "output_type": "stream",
     "text": [
      "+----+-------+--------------------+--------------------+-------+---------+-----------------+\n",
      "|  id|city_id|                name|            url_name|  color|system_id|transport_mode_id|\n",
      "+----+-------+--------------------+--------------------+-------+---------+-----------------+\n",
      "|  43|      4|             Línea 2|          43-linea-2|#ffbe2e|      267|                4|\n",
      "|  75|     34|Línea 3 Metro de ...|75-linea-3-metro-...|   #000|      119|             null|\n",
      "| 107|    126|             Línea 1|         107-linea-1|#434343|      249|             null|\n",
      "| 604|     74|          La navette|      604-la-navette|#009ab9|      346|             null|\n",
      "|  61|     66|  Línea 1 (Tramo 1A)|          61-linea-1|#49aa43|      250|             null|\n",
      "|1471|     91|  Tokaido Shinkansen|1471-tokaido-shin...|#0000ff|      551|                1|\n",
      "|   5|      1|                   A|                   a|#00b3da|      254|                4|\n",
      "| 168|    261|             Línea 1|         168-linea-1|#f58223|      256|             null|\n",
      "| 219|    110|                  14|        219-red-line|#d0021b|      257|                4|\n",
      "|  45|      4|             Línea 4|          45-linea-4|#292d91|      267|                4|\n",
      "|  40|      4|            Línea 4A|         40-linea-4a|#0099ff|      267|                4|\n",
      "|  46|      4|             Línea 5|          46-linea-5|#006633|      267|                4|\n",
      "|  60|      4|             Línea 6|          60-linea-6|#8e16a1|      267|                4|\n",
      "|  70|      4|       MetroTren Nos|      70-nos-express|#000000|      268|                3|\n",
      "| 223|    110|                  12|    223-nockebybanan|#385369|      476|                5|\n",
      "| 227|     79|                  M1|              227-m1|#ee2e24|       67|                4|\n",
      "| 217|      4|Ramal San Felipe ...|217-ramal-san-fel...|   #000|      276|                2|\n",
      "| 225|     79|                  M5|              225-m5|#b17aea|       67|                4|\n",
      "| 141|     21|    Troncal C - Suba|             141-g30|#f3d135|      253|             null|\n",
      "| 610|    118|                 22A|             610-22a|#4a90e2|      347|             null|\n",
      "|  42|      4|            Línea 1 |         42-linea-1-|#cc0000|      267|                4|\n",
      "|  62|     66|  Línea 2 (Tramo 1A)|          62-linea-2|#ffbc2d|      250|             null|\n",
      "|  72|      4|FFCC Llano del Maipo|72-ffcc-llanos-de...|#f8e71c|      478|                9|\n",
      "|  73|      4|FFCC Yungay-Barra...|73-ffcc-yungay---...|#f8e71c|      478|                9|\n",
      "| 221|      4|        FFCC Red Sur|    221-ffcc-red-sur|   #000|      276|                2|\n",
      "| 200|      4|FFCC Santiago - V...|200-ffcc-santiago...|   #000|      276|                2|\n",
      "| 158|      4|FFCC de Circunval...|158-ffcc-de-circu...|   #000|      276|                2|\n",
      "| 133|    107|        Jinshan Line|    133-jinshan-line|#666666|      282|             null|\n",
      "| 134|    107|              Maglev|          134-maglev|#009090|      282|             null|\n",
      "| 147|    107|Route 71 Yan'an eBRT|147-route-71-yan'...|#b8e986|      282|             null|\n",
      "+----+-------+--------------------+--------------------+-------+---------+-----------------+\n",
      "only showing top 30 rows\n",
      "\n"
     ]
    }
   ],
   "source": [
    "# Check data\n",
    "linesDF.show(30)"
   ]
  },
  {
   "cell_type": "code",
   "execution_count": 15,
   "metadata": {
    "collapsed": true
   },
   "outputs": [],
   "source": [
    "# Export DataFrame to a Table\n",
    "linesDF.write.saveAsTable(\"lines\")"
   ]
  },
  {
   "cell_type": "code",
   "execution_count": 16,
   "metadata": {
    "scrolled": false
   },
   "outputs": [
    {
     "name": "stdout",
     "output_type": "stream",
     "text": [
      "+---+-------+--------------------+--------------------+-------+---------+-----------------+\n",
      "| id|city_id|                name|            url_name|  color|system_id|transport_mode_id|\n",
      "+---+-------+--------------------+--------------------+-------+---------+-----------------+\n",
      "| 43|      4|             Línea 2|          43-linea-2|#ffbe2e|      267|                4|\n",
      "| 75|     34|Línea 3 Metro de ...|75-linea-3-metro-...|   #000|      119|             null|\n",
      "|107|    126|             Línea 1|         107-linea-1|#434343|      249|             null|\n",
      "+---+-------+--------------------+--------------------+-------+---------+-----------------+\n",
      "\n"
     ]
    }
   ],
   "source": [
    "# Print 3 rows from table\n",
    "hc.sql(\"select * from lines limit 3\").show()"
   ]
  },
  {
   "cell_type": "markdown",
   "metadata": {},
   "source": [
    "## IMPORT STATION_LINES DATA"
   ]
  },
  {
   "cell_type": "code",
   "execution_count": 17,
   "metadata": {},
   "outputs": [
    {
     "data": {
      "text/plain": [
       "16242"
      ]
     },
     "execution_count": 17,
     "metadata": {},
     "output_type": "execute_result"
    }
   ],
   "source": [
    "station_linesDF = sqlContext.read.load('C:/Dados/citylines/station_lines.csv', \n",
    "                                format='com.databricks.spark.csv', \n",
    "                                header='true', \n",
    "                                inferSchema='true')\n",
    "# Count rows\n",
    "station_linesDF.count()"
   ]
  },
  {
   "cell_type": "code",
   "execution_count": 18,
   "metadata": {},
   "outputs": [
    {
     "name": "stdout",
     "output_type": "stream",
     "text": [
      "root\n",
      " |-- id: integer (nullable = true)\n",
      " |-- station_id: integer (nullable = true)\n",
      " |-- line_id: integer (nullable = true)\n",
      " |-- city_id: integer (nullable = true)\n",
      " |-- created_at: timestamp (nullable = true)\n",
      " |-- updated_at: timestamp (nullable = true)\n",
      "\n"
     ]
    }
   ],
   "source": [
    "# Print Schema\n",
    "station_linesDF.printSchema()"
   ]
  },
  {
   "cell_type": "code",
   "execution_count": 19,
   "metadata": {},
   "outputs": [
    {
     "name": "stdout",
     "output_type": "stream",
     "text": [
      "+---+----------+-------+-------+-------------------+-------------------+\n",
      "| id|station_id|line_id|city_id|         created_at|         updated_at|\n",
      "+---+----------+-------+-------+-------------------+-------------------+\n",
      "| 47|      7754|    570|     74|2017-11-21 00:00:00|2017-11-21 00:00:00|\n",
      "| 48|      7771|    571|     74|2017-11-21 00:00:00|2017-11-21 00:00:00|\n",
      "| 49|      7764|    571|     74|2017-11-21 00:00:00|2017-11-21 00:00:00|\n",
      "| 50|      7763|    571|     74|2017-11-21 00:00:00|2017-11-21 00:00:00|\n",
      "| 51|      7729|    571|     74|2017-11-21 00:00:00|2017-11-21 00:00:00|\n",
      "| 52|      7772|    571|     74|2017-11-21 00:00:00|2017-11-21 00:00:00|\n",
      "| 53|      8523|    582|     70|2017-11-21 00:00:00|2017-11-21 00:00:00|\n",
      "| 54|      8525|    582|     70|2017-11-21 00:00:00|2017-11-21 00:00:00|\n",
      "| 55|        93|     10|      1|2017-11-21 00:00:00|2017-11-21 00:00:00|\n",
      "| 56|      6005|    442|    114|2017-11-21 00:00:00|2017-11-21 00:00:00|\n",
      "| 57|      6102|    495|    114|2017-11-21 00:00:00|2017-11-21 00:00:00|\n",
      "| 58|      6006|    439|    114|2017-11-21 00:00:00|2017-11-21 00:00:00|\n",
      "| 59|      6007|    442|    114|2017-11-21 00:00:00|2017-11-21 00:00:00|\n",
      "| 61|      6008|    442|    114|2017-11-21 00:00:00|2017-11-21 00:00:00|\n",
      "| 62|      6009|    439|    114|2017-11-21 00:00:00|2017-11-21 00:00:00|\n",
      "| 63|      6010|    442|    114|2017-11-21 00:00:00|2017-11-21 00:00:00|\n",
      "| 65|      6011|    442|    114|2017-11-21 00:00:00|2017-11-21 00:00:00|\n",
      "| 66|      6012|    439|    114|2017-11-21 00:00:00|2017-11-21 00:00:00|\n",
      "| 67|      6080|    537|    114|2017-11-21 00:00:00|2017-11-21 00:00:00|\n",
      "| 68|      6013|    442|    114|2017-11-21 00:00:00|2017-11-21 00:00:00|\n",
      "| 70|      6014|    442|    114|2017-11-21 00:00:00|2017-11-21 00:00:00|\n",
      "| 71|      6015|    439|    114|2017-11-21 00:00:00|2017-11-21 00:00:00|\n",
      "| 72|      6016|    442|    114|2017-11-21 00:00:00|2017-11-21 00:00:00|\n",
      "| 74|      6017|    442|    114|2017-11-21 00:00:00|2017-11-21 00:00:00|\n",
      "| 75|      6018|    439|    114|2017-11-21 00:00:00|2017-11-21 00:00:00|\n",
      "| 76|      6099|    494|    114|2017-11-21 00:00:00|2017-11-21 00:00:00|\n",
      "| 77|      6019|    442|    114|2017-11-21 00:00:00|2017-11-21 00:00:00|\n",
      "| 78|      6081|    537|    114|2017-11-21 00:00:00|2017-11-21 00:00:00|\n",
      "| 79|      6020|    442|    114|2017-11-21 00:00:00|2017-11-21 00:00:00|\n",
      "| 80|      6021|    439|    114|2017-11-21 00:00:00|2017-11-21 00:00:00|\n",
      "+---+----------+-------+-------+-------------------+-------------------+\n",
      "only showing top 30 rows\n",
      "\n"
     ]
    }
   ],
   "source": [
    "# Check data\n",
    "station_linesDF.show(30)"
   ]
  },
  {
   "cell_type": "code",
   "execution_count": 20,
   "metadata": {
    "collapsed": true
   },
   "outputs": [],
   "source": [
    "# Export DataFrame to a Table\n",
    "station_linesDF.write.saveAsTable(\"station_lines\")"
   ]
  },
  {
   "cell_type": "code",
   "execution_count": 21,
   "metadata": {
    "scrolled": false
   },
   "outputs": [
    {
     "name": "stdout",
     "output_type": "stream",
     "text": [
      "+---+----------+-------+-------+-------------------+-------------------+\n",
      "| id|station_id|line_id|city_id|         created_at|         updated_at|\n",
      "+---+----------+-------+-------+-------------------+-------------------+\n",
      "| 47|      7754|    570|     74|2017-11-21 00:00:00|2017-11-21 00:00:00|\n",
      "| 48|      7771|    571|     74|2017-11-21 00:00:00|2017-11-21 00:00:00|\n",
      "| 49|      7764|    571|     74|2017-11-21 00:00:00|2017-11-21 00:00:00|\n",
      "+---+----------+-------+-------+-------------------+-------------------+\n",
      "\n"
     ]
    }
   ],
   "source": [
    "# Print 3 rows from table\n",
    "hc.sql(\"select * from station_lines limit 3\").show()"
   ]
  },
  {
   "cell_type": "markdown",
   "metadata": {},
   "source": [
    "## IMPORT STATION DATA"
   ]
  },
  {
   "cell_type": "code",
   "execution_count": 22,
   "metadata": {},
   "outputs": [
    {
     "data": {
      "text/plain": [
       "16416"
      ]
     },
     "execution_count": 22,
     "metadata": {},
     "output_type": "execute_result"
    }
   ],
   "source": [
    "stationsDF = sqlContext.read.load('C:/Dados/citylines/stations.csv', \n",
    "                                format='com.databricks.spark.csv', \n",
    "                                header='true', \n",
    "                                inferSchema='true')\n",
    "# Count rows\n",
    "stationsDF.count()"
   ]
  },
  {
   "cell_type": "code",
   "execution_count": 23,
   "metadata": {},
   "outputs": [
    {
     "name": "stdout",
     "output_type": "stream",
     "text": [
      "root\n",
      " |-- id: string (nullable = true)\n",
      " |-- name: string (nullable = true)\n",
      " |-- geometry: string (nullable = true)\n",
      " |-- buildstart: integer (nullable = true)\n",
      " |-- opening: integer (nullable = true)\n",
      " |-- closure: integer (nullable = true)\n",
      " |-- city_id: integer (nullable = true)\n",
      "\n"
     ]
    }
   ],
   "source": [
    "# Print Schema\n",
    "stationsDF.printSchema()"
   ]
  },
  {
   "cell_type": "code",
   "execution_count": 24,
   "metadata": {},
   "outputs": [
    {
     "name": "stdout",
     "output_type": "stream",
     "text": [
      "+----+-----------------+--------------------+----------+-------+-------+-------+\n",
      "|  id|             name|            geometry|buildstart|opening|closure|city_id|\n",
      "+----+-----------------+--------------------+----------+-------+-------+-------+\n",
      "|7694| Keisei Tsudanuma|POINT(140.0248121...|      1921|   1921| 999999|    114|\n",
      "|6003|Kossuth Lajos tér|POINT(19.04623765...|         0|      0| 999999|     29|\n",
      "|7732|    Saint-Charles|POINT(5.3801556 4...|      1973|   1977| 999999|     74|\n",
      "+----+-----------------+--------------------+----------+-------+-------+-------+\n",
      "only showing top 3 rows\n",
      "\n"
     ]
    }
   ],
   "source": [
    "# Check data\n",
    "stationsDF.show(3)"
   ]
  },
  {
   "cell_type": "code",
   "execution_count": 25,
   "metadata": {
    "collapsed": true
   },
   "outputs": [],
   "source": [
    "# Export DataFrame to a Table\n",
    "stationsDF.write.saveAsTable(\"stations\")"
   ]
  },
  {
   "cell_type": "code",
   "execution_count": 26,
   "metadata": {
    "scrolled": false
   },
   "outputs": [
    {
     "name": "stdout",
     "output_type": "stream",
     "text": [
      "+----+-----------------+--------------------+----------+-------+-------+-------+\n",
      "|  id|             name|            geometry|buildstart|opening|closure|city_id|\n",
      "+----+-----------------+--------------------+----------+-------+-------+-------+\n",
      "|7694| Keisei Tsudanuma|POINT(140.0248121...|      1921|   1921| 999999|    114|\n",
      "|6003|Kossuth Lajos tér|POINT(19.04623765...|         0|      0| 999999|     29|\n",
      "|7732|    Saint-Charles|POINT(5.3801556 4...|      1973|   1977| 999999|     74|\n",
      "+----+-----------------+--------------------+----------+-------+-------+-------+\n",
      "\n"
     ]
    }
   ],
   "source": [
    "# Print 3 rows from table\n",
    "hc.sql(\"select * from stations limit 3\").show()"
   ]
  },
  {
   "cell_type": "markdown",
   "metadata": {},
   "source": [
    "## DATA ANALYSIS"
   ]
  },
  {
   "cell_type": "code",
   "execution_count": 28,
   "metadata": {},
   "outputs": [
    {
     "name": "stdout",
     "output_type": "stream",
     "text": [
      "+-------------+--------+\n",
      "|      country|cnt_city|\n",
      "+-------------+--------+\n",
      "|United States|     111|\n",
      "+-------------+--------+\n",
      "\n"
     ]
    }
   ],
   "source": [
    "# Qual pais tem mais cidades?\n",
    "hc.sql(\"select country, count(distinct name) cnt_city \\\n",
    "       from cities c \\\n",
    "       group by country \\\n",
    "       order by cnt_city desc \\\n",
    "       limit 1\").show()"
   ]
  },
  {
   "cell_type": "code",
   "execution_count": 29,
   "metadata": {},
   "outputs": [
    {
     "name": "stdout",
     "output_type": "stream",
     "text": [
      "+---------+-----------+\n",
      "|city_name|count_lines|\n",
      "+---------+-----------+\n",
      "|    Tokyo|        253|\n",
      "+---------+-----------+\n",
      "\n"
     ]
    }
   ],
   "source": [
    "# Qual cidade tem mais linhas?\n",
    "hc.sql(\"select c.name city_name , count(distinct l.id) count_lines \\\n",
    "       from cities c \\\n",
    "           join lines l on l.city_id = c.id \\\n",
    "       group by c.name \\\n",
    "       order by count_lines desc \\\n",
    "       limit 1\").show()"
   ]
  },
  {
   "cell_type": "code",
   "execution_count": 30,
   "metadata": {},
   "outputs": [
    {
     "name": "stdout",
     "output_type": "stream",
     "text": [
      "+----+--------------------+----------+\n",
      "|  id|                line|count_city|\n",
      "+----+--------------------+----------+\n",
      "| 850|         Barrie Line|         1|\n",
      "| 275|Linha 6 • Laranja...|         1|\n",
      "| 687|      Northern Lines|         1|\n",
      "|1407|           Gose Line|         1|\n",
      "|  40|            Línea 4A|         1|\n",
      "| 506|        T 11 express|         1|\n",
      "|1481|    Kobe Kosoku Line|         1|\n",
      "| 641|        Hondori Line|         1|\n",
      "|1104|            del Bajo|         1|\n",
      "| 736|Disneyland Resort...|         1|\n",
      "+----+--------------------+----------+\n",
      "\n"
     ]
    }
   ],
   "source": [
    "# Quais são 10 linhas que passam por mais cidade?\n",
    "hc.sql(\"select l.id, l.name line, count(distinct l.city_id) count_city \\\n",
    "       from lines l \\\n",
    "       group by l.id, l.name \\\n",
    "       order by count_city desc \\\n",
    "       limit 10\").show()"
   ]
  },
  {
   "cell_type": "code",
   "execution_count": 31,
   "metadata": {},
   "outputs": [
    {
     "name": "stdout",
     "output_type": "stream",
     "text": [
      "+-------+-----------+\n",
      "|country|count_lines|\n",
      "+-------+-----------+\n",
      "|  Japan|        365|\n",
      "+-------+-----------+\n",
      "\n"
     ]
    }
   ],
   "source": [
    "# O pais que tem mais linhas\n",
    "hc.sql(\"select c.country, count(distinct l.id) count_lines \\\n",
    "       from cities c \\\n",
    "           join lines l on l.city_id = c.id\\\n",
    "       group by c.country \\\n",
    "       order by count_lines desc \\\n",
    "       limit 1\").show()"
   ]
  },
  {
   "cell_type": "code",
   "execution_count": 32,
   "metadata": {},
   "outputs": [
    {
     "name": "stdout",
     "output_type": "stream",
     "text": [
      "+---+---------+--------------+\n",
      "| id|line_name|count_stations|\n",
      "+---+---------+--------------+\n",
      "|658|     Roca|            95|\n",
      "+---+---------+--------------+\n",
      "\n"
     ]
    }
   ],
   "source": [
    "# A linha que tem mais estações\n",
    "hc.sql(\"select l.id, l.name line_name, count(distinct sl.station_id) count_stations \\\n",
    "       from lines l \\\n",
    "           join station_lines sl on sl.line_id = l.id \\\n",
    "       group by l.id, l.name \\\n",
    "       order by count_stations desc \\\n",
    "       limit 1\").show()"
   ]
  },
  {
   "cell_type": "code",
   "execution_count": 33,
   "metadata": {},
   "outputs": [
    {
     "name": "stdout",
     "output_type": "stream",
     "text": [
      "+------------+------------+\n",
      "|   city_name|max_stations|\n",
      "+------------+------------+\n",
      "|Buenos Aires|          95|\n",
      "|    Bordeaux|          87|\n",
      "|      London|          86|\n",
      "|      Munich|          78|\n",
      "|      Nantes|          75|\n",
      "|       Paris|          72|\n",
      "|       Tours|          62|\n",
      "|        Graz|          62|\n",
      "|   Innsbruck|          60|\n",
      "| Montpellier|          60|\n",
      "+------------+------------+\n",
      "\n"
     ]
    }
   ],
   "source": [
    "# Quais são as 10 cidades que possuem as linhas com mais estações\n",
    "hc.sql(\"select city_name, max(count_stations) max_stations\\\n",
    "       from (select l.id, c.name city_name, count(distinct sl.station_id) count_stations \\\n",
    "             from cities c \\\n",
    "                 join lines l on l.city_id = c.id \\\n",
    "                 join station_lines sl on sl.line_id = l.id \\\n",
    "             group by l.id, c.name \\\n",
    "             order by count_stations desc) \\\n",
    "       group by city_name \\\n",
    "       order by max_stations desc \\\n",
    "       limit 10\").show()\n",
    "\n",
    "# Eu usei MAX() function pra mostrar cidades diferentes, senão ia duplicar por causa das estações"
   ]
  },
  {
   "cell_type": "code",
   "execution_count": 34,
   "metadata": {},
   "outputs": [
    {
     "name": "stdout",
     "output_type": "stream",
     "text": [
      "+---------+\n",
      "|  country|\n",
      "+---------+\n",
      "|Argentina|\n",
      "|   France|\n",
      "|  England|\n",
      "|  Germany|\n",
      "|  Austria|\n",
      "+---------+\n",
      "\n"
     ]
    }
   ],
   "source": [
    "# Qual país são os mais presentes entre essas 10 cidades\n",
    "hc.sql(\"select distinct country \\\n",
    "        from (select country, city_name, max(count_stations) max_stations\\\n",
    "              from (select l.id, c.name city_name, c.country, count(distinct sl.station_id) count_stations \\\n",
    "                   from cities c \\\n",
    "                       join lines l on l.city_id = c.id \\\n",
    "                       join station_lines sl on sl.line_id = l.id \\\n",
    "                   group by l.id, c.name, c.country \\\n",
    "                   order by count_stations desc) \\\n",
    "              group by country, city_name \\\n",
    "              order by max_stations desc \\\n",
    "              limit 10)\").show()"
   ]
  },
  {
   "cell_type": "code",
   "execution_count": 35,
   "metadata": {},
   "outputs": [
    {
     "name": "stdout",
     "output_type": "stream",
     "text": [
      "+---------+------------------+\n",
      "|  country|      avg_stations|\n",
      "+---------+------------------+\n",
      "|Argentina|31.045454545454547|\n",
      "+---------+------------------+\n",
      "\n"
     ]
    }
   ],
   "source": [
    "# O país que tem a maior média de estações\n",
    "hc.sql(\"select country, avg(count_stations) avg_stations \\\n",
    "        from (select l.id, c.name, c.country, count(distinct sl.station_id) count_stations \\\n",
    "              from cities c \\\n",
    "                  join lines l on l.city_id = c.id \\\n",
    "                  join station_lines sl on sl.line_id = l.id \\\n",
    "              group by l.id, c.name, c.country \\\n",
    "              order by count_stations desc ) \\\n",
    "        group by country \\\n",
    "        order by avg_stations desc \\\n",
    "        limit 1\").show()"
   ]
  },
  {
   "cell_type": "code",
   "execution_count": null,
   "metadata": {
    "collapsed": true
   },
   "outputs": [],
   "source": []
  }
 ],
 "metadata": {
  "kernelspec": {
   "display_name": "Python 3",
   "language": "python",
   "name": "python3"
  },
  "language_info": {
   "codemirror_mode": {
    "name": "ipython",
    "version": 3
   },
   "file_extension": ".py",
   "mimetype": "text/x-python",
   "name": "python",
   "nbconvert_exporter": "python",
   "pygments_lexer": "ipython3",
   "version": "3.6.1"
  }
 },
 "nbformat": 4,
 "nbformat_minor": 2
}
